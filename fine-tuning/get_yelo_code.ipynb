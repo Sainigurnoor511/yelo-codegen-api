{
 "cells": [
  {
   "cell_type": "code",
   "execution_count": 1,
   "id": "cd046d23",
   "metadata": {},
   "outputs": [],
   "source": [
    "import os\n",
    "import requests\n",
    "import pandas as pd\n",
    "from dotenv import load_dotenv\n",
    "load_dotenv()\n",
    "\n",
    "BASE_URL = 'https://admin.yelo.red/api/themes'\n",
    "HEADERS = {\n",
    "    'sec-ch-ua-platform': '\"macOS\"',\n",
    "    'Referer': 'https://admin.yelo.red/en/dashboard/dynamic-themes/edit/8231?name=Freshgo%20AI',\n",
    "    'User-Agent': 'Mozilla/5.0 (Macintosh; Intel Mac OS X 10_15_7) AppleWebKit/537.36 (KHTML, like Gecko) Chrome/134.0.0.0 Safari/537.36',\n",
    "    'Accept': 'application/json, text/plain, */*',\n",
    "    'sec-ch-ua': '\"Chromium\";v=\"134\", \"Not:A-Brand\";v=\"24\", \"Google Chrome\";v=\"134\"',\n",
    "    'Content-Type': 'application/json',\n",
    "    'sec-ch-ua-mobile': '?0',\n",
    "    'api-key': os.getenv('API_KEY'),\n",
    "}\n",
    "\n",
    "ACCESS_TOKEN = os.getenv('ACCESS_TOKEN')\n",
    "MARKETPLACE_USER_ID = 1703269"
   ]
  },
  {
   "cell_type": "code",
   "execution_count": 2,
   "id": "a7296829",
   "metadata": {},
   "outputs": [],
   "source": [
    "def fetch_pages():\n",
    "    response = requests.post(f\"{BASE_URL}/getPagesAndComponents\", headers=HEADERS, json={\n",
    "        \"access_token\": ACCESS_TOKEN,\n",
    "        \"theme_id\": \"8231\",\n",
    "        \"marketplace_user_id\": MARKETPLACE_USER_ID\n",
    "    })\n",
    "    response.raise_for_status()\n",
    "    data = response.json().get(\"data\", {})\n",
    "    \n",
    "    pages = data.get(\"pages\", [])\n",
    "    df_pages = pd.DataFrame([{  \n",
    "        \"page_name\": page.get(\"page_name\"),\n",
    "        \"html\": page.get(\"html\"),\n",
    "        \"css\": page.get(\"css\")\n",
    "    } for page in pages])\n",
    "    \n",
    "    df_pages.to_csv(\"data/pages_data.csv\", index=False)\n",
    "    print(\"Pages data saved to pages_data.csv\")\n",
    "    return df_pages"
   ]
  },
  {
   "cell_type": "code",
   "execution_count": 3,
   "id": "f76d7375",
   "metadata": {},
   "outputs": [],
   "source": [
    "def fetch_components():\n",
    "    response = requests.post(f\"{BASE_URL}/getPagesAndComponents\", headers=HEADERS, json={\n",
    "        \"access_token\": ACCESS_TOKEN,\n",
    "        \"theme_id\": \"8231\",\n",
    "        \"marketplace_user_id\": MARKETPLACE_USER_ID\n",
    "    })\n",
    "    response.raise_for_status()\n",
    "    data = response.json().get(\"data\", {})\n",
    "    \n",
    "    template_data = [{\n",
    "        \"template_id\": comp.get(\"template_id\"),\n",
    "        \"template_name\": comp.get(\"template_name\")\n",
    "    } for comp in data.get(\"components\", [])]\n",
    "    \n",
    "    component_list = []\n",
    "    for template in template_data:\n",
    "        comp_response = requests.post(\"https://beta-api.yelo.red/themes/getTemplate\", headers=HEADERS, json={\n",
    "            \"template_id\": template[\"template_id\"],\n",
    "            \"access_token\": ACCESS_TOKEN,\n",
    "            \"marketplace_user_id\": MARKETPLACE_USER_ID\n",
    "        })\n",
    "        comp_response.raise_for_status()\n",
    "        comp_data = comp_response.json().get(\"data\", {}).get(\"template\", {})\n",
    "        \n",
    "        component_list.append({\n",
    "            \"template_id\": comp_data.get(\"template_id\"),\n",
    "            \"template_name\": template[\"template_name\"],\n",
    "            \"html\": comp_data.get(\"html\"),\n",
    "            \"css\": comp_data.get(\"css\")\n",
    "        })\n",
    "    \n",
    "    df_components = pd.DataFrame(component_list).drop_duplicates(subset=['template_id'])\n",
    "    df_components.to_csv(\"data/components_data.csv\", index=False)\n",
    "    print(\"Components data saved to components_data.csv\")\n",
    "    return df_components"
   ]
  },
  {
   "cell_type": "code",
   "execution_count": 4,
   "id": "20bfe948",
   "metadata": {},
   "outputs": [
    {
     "name": "stdout",
     "output_type": "stream",
     "text": [
      "Pages data saved to pages_data.csv\n",
      "Components data saved to components_data.csv\n"
     ]
    }
   ],
   "source": [
    "if __name__ == \"__main__\":\n",
    "    df_pages = fetch_pages()\n",
    "    df_components = fetch_components()"
   ]
  }
 ],
 "metadata": {
  "kernelspec": {
   "display_name": ".venv",
   "language": "python",
   "name": "python3"
  },
  "language_info": {
   "codemirror_mode": {
    "name": "ipython",
    "version": 3
   },
   "file_extension": ".py",
   "mimetype": "text/x-python",
   "name": "python",
   "nbconvert_exporter": "python",
   "pygments_lexer": "ipython3",
   "version": "3.13.2"
  }
 },
 "nbformat": 4,
 "nbformat_minor": 5
}
